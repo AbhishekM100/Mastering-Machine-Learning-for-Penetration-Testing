{
  "nbformat": 4,
  "nbformat_minor": 0,
  "metadata": {
    "colab": {
      "name": "Detecting Phishing URL by Machine Learning",
      "version": "0.3.2",
      "provenance": [],
      "collapsed_sections": [],
      "include_colab_link": true
    },
    "kernelspec": {
      "name": "python3",
      "display_name": "Python 3"
    }
  },
  "cells": [
    {
      "cell_type": "markdown",
      "metadata": {
        "id": "view-in-github",
        "colab_type": "text"
      },
      "source": [
        "<a href=\"https://colab.research.google.com/github/AbhishekM100/Mastering-Machine-Learning-for-Penetration-Testing/blob/master/Detecting_Phishing_URL_by_Machine_Learning.ipynb\" target=\"_parent\"><img src=\"https://colab.research.google.com/assets/colab-badge.svg\" alt=\"Open In Colab\"/></a>"
      ]
    },
    {
      "cell_type": "code",
      "metadata": {
        "id": "kFaNTI4Q0L8U",
        "colab_type": "code",
        "colab": {}
      },
      "source": [
        "import pandas as pd\n",
        "import numpy as np\n",
        "import random\n",
        "\n",
        "#Machine Learning packages\n",
        "from sklearn.feature_extraction.text import CountVectorizer\n",
        "from sklearn.feature_extraction.text import TfidfVectorizer\n",
        "from sklearn.linear_model import LogisticRegression\n",
        "from sklearn.model_selection import train_test_split"
      ],
      "execution_count": 0,
      "outputs": []
    },
    {
      "cell_type": "code",
      "metadata": {
        "id": "o1bffzOW1vqi",
        "colab_type": "code",
        "colab": {}
      },
      "source": [
        "# Load URL Data\n",
        "data = pd.read_csv(\"data.csv\")"
      ],
      "execution_count": 0,
      "outputs": []
    },
    {
      "cell_type": "code",
      "metadata": {
        "id": "Tlz_rO0-Xuzz",
        "colab_type": "code",
        "colab": {
          "base_uri": "https://localhost:8080/",
          "height": 136
        },
        "outputId": "af92db0e-a64d-437f-f91d-450fd4889e34"
      },
      "source": [
        "data.info()"
      ],
      "execution_count": 50,
      "outputs": [
        {
          "output_type": "stream",
          "text": [
            "<class 'pandas.core.frame.DataFrame'>\n",
            "RangeIndex: 420464 entries, 0 to 420463\n",
            "Data columns (total 2 columns):\n",
            "url      420464 non-null object\n",
            "label    420464 non-null object\n",
            "dtypes: object(2)\n",
            "memory usage: 6.4+ MB\n"
          ],
          "name": "stdout"
        }
      ]
    },
    {
      "cell_type": "code",
      "metadata": {
        "id": "3jGbl5Jk2CcJ",
        "colab_type": "code",
        "outputId": "6d2a3f00-6966-4523-eceb-762f4e12b106",
        "colab": {
          "base_uri": "https://localhost:8080/",
          "height": 204
        }
      },
      "source": [
        "data.head()"
      ],
      "execution_count": 51,
      "outputs": [
        {
          "output_type": "execute_result",
          "data": {
            "text/html": [
              "<div>\n",
              "<style scoped>\n",
              "    .dataframe tbody tr th:only-of-type {\n",
              "        vertical-align: middle;\n",
              "    }\n",
              "\n",
              "    .dataframe tbody tr th {\n",
              "        vertical-align: top;\n",
              "    }\n",
              "\n",
              "    .dataframe thead th {\n",
              "        text-align: right;\n",
              "    }\n",
              "</style>\n",
              "<table border=\"1\" class=\"dataframe\">\n",
              "  <thead>\n",
              "    <tr style=\"text-align: right;\">\n",
              "      <th></th>\n",
              "      <th>url</th>\n",
              "      <th>label</th>\n",
              "    </tr>\n",
              "  </thead>\n",
              "  <tbody>\n",
              "    <tr>\n",
              "      <th>0</th>\n",
              "      <td>diaryofagameaddict.com</td>\n",
              "      <td>bad</td>\n",
              "    </tr>\n",
              "    <tr>\n",
              "      <th>1</th>\n",
              "      <td>espdesign.com.au</td>\n",
              "      <td>bad</td>\n",
              "    </tr>\n",
              "    <tr>\n",
              "      <th>2</th>\n",
              "      <td>iamagameaddict.com</td>\n",
              "      <td>bad</td>\n",
              "    </tr>\n",
              "    <tr>\n",
              "      <th>3</th>\n",
              "      <td>kalantzis.net</td>\n",
              "      <td>bad</td>\n",
              "    </tr>\n",
              "    <tr>\n",
              "      <th>4</th>\n",
              "      <td>slightlyoffcenter.net</td>\n",
              "      <td>bad</td>\n",
              "    </tr>\n",
              "  </tbody>\n",
              "</table>\n",
              "</div>"
            ],
            "text/plain": [
              "                      url label\n",
              "0  diaryofagameaddict.com   bad\n",
              "1        espdesign.com.au   bad\n",
              "2      iamagameaddict.com   bad\n",
              "3           kalantzis.net   bad\n",
              "4   slightlyoffcenter.net   bad"
            ]
          },
          "metadata": {
            "tags": []
          },
          "execution_count": 51
        }
      ]
    },
    {
      "cell_type": "markdown",
      "metadata": {
        "id": "6FgBTLn481bO",
        "colab_type": "text"
      },
      "source": [
        "**Data Tokenizer**"
      ]
    },
    {
      "cell_type": "code",
      "metadata": {
        "id": "CvAxkoFA8-Xc",
        "colab_type": "code",
        "colab": {}
      },
      "source": [
        "def makeTokens(f):\n",
        "  tkns_BySlash = str(f.encode('utf-8')).split('/')  #Make tokens after splitting by slash\n",
        "  total_tokens = []\n",
        "  for i in tkns_BySlash:\n",
        "    tokens = str(i).split('-')                      #Splitting by dash\n",
        "    tkns_ByDot = []\n",
        "    for j in range(0, len(tokens)):\n",
        "      temp_tokens = str(tokens[j]).split('.')       #Splitting by dot\n",
        "    total_tokens = total_tokens + tokens + temp_tokens\n",
        "  total_tokens = list(set(total_tokens))            #Removing redundencies\n",
        "  if 'com' in total_tokens:\n",
        "    total_tokens.remove('com')                      #Removing 'com'\n",
        "  return total_tokens"
      ],
      "execution_count": 0,
      "outputs": []
    },
    {
      "cell_type": "code",
      "metadata": {
        "id": "ZyBnEesw4Je6",
        "colab_type": "code",
        "colab": {}
      },
      "source": [
        "#Labels\n",
        "y = data['label']"
      ],
      "execution_count": 0,
      "outputs": []
    },
    {
      "cell_type": "code",
      "metadata": {
        "id": "P-PPtNwjNZZ5",
        "colab_type": "code",
        "colab": {
          "base_uri": "https://localhost:8080/",
          "height": 1000
        },
        "outputId": "d3d7f0d3-69d6-4762-8739-254fc7e07938"
      },
      "source": [
        "y"
      ],
      "execution_count": 54,
      "outputs": [
        {
          "output_type": "execute_result",
          "data": {
            "text/plain": [
              "0         bad\n",
              "1         bad\n",
              "2         bad\n",
              "3         bad\n",
              "4         bad\n",
              "5         bad\n",
              "6         bad\n",
              "7         bad\n",
              "8         bad\n",
              "9         bad\n",
              "10        bad\n",
              "11        bad\n",
              "12        bad\n",
              "13        bad\n",
              "14        bad\n",
              "15        bad\n",
              "16        bad\n",
              "17        bad\n",
              "18        bad\n",
              "19        bad\n",
              "20        bad\n",
              "21        bad\n",
              "22        bad\n",
              "23        bad\n",
              "24        bad\n",
              "25        bad\n",
              "26        bad\n",
              "27        bad\n",
              "28        bad\n",
              "29        bad\n",
              "         ... \n",
              "420434    bad\n",
              "420435    bad\n",
              "420436    bad\n",
              "420437    bad\n",
              "420438    bad\n",
              "420439    bad\n",
              "420440    bad\n",
              "420441    bad\n",
              "420442    bad\n",
              "420443    bad\n",
              "420444    bad\n",
              "420445    bad\n",
              "420446    bad\n",
              "420447    bad\n",
              "420448    bad\n",
              "420449    bad\n",
              "420450    bad\n",
              "420451    bad\n",
              "420452    bad\n",
              "420453    bad\n",
              "420454    bad\n",
              "420455    bad\n",
              "420456    bad\n",
              "420457    bad\n",
              "420458    bad\n",
              "420459    bad\n",
              "420460    bad\n",
              "420461    bad\n",
              "420462    bad\n",
              "420463    bad\n",
              "Name: label, Length: 420464, dtype: object"
            ]
          },
          "metadata": {
            "tags": []
          },
          "execution_count": 54
        }
      ]
    },
    {
      "cell_type": "code",
      "metadata": {
        "id": "cpufkc-14hIU",
        "colab_type": "code",
        "colab": {}
      },
      "source": [
        "#Features\n",
        "url_list = data['url']"
      ],
      "execution_count": 0,
      "outputs": []
    },
    {
      "cell_type": "code",
      "metadata": {
        "id": "bi6zJc4rT-hj",
        "colab_type": "code",
        "colab": {
          "base_uri": "https://localhost:8080/",
          "height": 1000
        },
        "outputId": "966debe4-59dd-47e2-b540-e6c671921f2f"
      },
      "source": [
        "url_list"
      ],
      "execution_count": 56,
      "outputs": [
        {
          "output_type": "execute_result",
          "data": {
            "text/plain": [
              "0                                    diaryofagameaddict.com\n",
              "1                                          espdesign.com.au\n",
              "2                                        iamagameaddict.com\n",
              "3                                             kalantzis.net\n",
              "4                                     slightlyoffcenter.net\n",
              "5                                          toddscarwash.com\n",
              "6                                            tubemoviez.com\n",
              "7                                                    ipl.hk\n",
              "8               crackspider.us/toolbar/install.php?pack=exe\n",
              "9                                           pos-kupang.com/\n",
              "10                                               rupor.info\n",
              "11        svision-online.de/mgfi/administrator/component...\n",
              "12        officeon.ch.ma/office.js?google_ad_format=728x...\n",
              "13                                              sn-gzzx.com\n",
              "14                            sunlux.net/company/about.html\n",
              "15                                              outporn.com\n",
              "16                                   timothycopus.aimoo.com\n",
              "17                                          xindalawyer.com\n",
              "18                         freeserials.spb.ru/key/68703.htm\n",
              "19                                 deletespyware-adware.com\n",
              "20                          orbowlada.strefa.pl/text396.htm\n",
              "21                                            ruiyangcn.com\n",
              "22                                                 zkic.com\n",
              "23        adserving.favorit-network.com/eas?camp=19320;c...\n",
              "24                                         cracks.vg/d1.php\n",
              "25                                      juicypussyclips.com\n",
              "26                                        nuptialimages.com\n",
              "27                                            andysgame.com\n",
              "28                                           bezproudoff.cz\n",
              "29                                       ceskarepublika.net\n",
              "                                ...                        \n",
              "420434                     www.alfalima.it/transactions.php\n",
              "420435           rapiseebrains.com/?a=401336&c=cpc&s=050217\n",
              "420436    fuji-ncb.com.pk/js/fancybox/autolink/mailbox/m...\n",
              "420437                                  aadroid.net/sys.olk\n",
              "420438                 mit.fileserver4390.org/file/nost.bgt\n",
              "420439                       cureeczemafast.org/wp-conf.gbn\n",
              "420440                        glutenfreeworks.com/lftAd.vfd\n",
              "420441                   dataplues.com/quincy/pony/gate.php\n",
              "420442                                        60.250.76.52/\n",
              "420443                                          f4321y.com/\n",
              "420444                                          mykings.pw/\n",
              "420445    activatemywebsetup.com/img/sunday/Excel/PO/pag...\n",
              "420446               www.iemailpremium.com/read.php?f=1.gif\n",
              "420447                               highpowerresources.com\n",
              "420448    new.ASKGRANNYSHOP.COM/?ct=Vivaldi&amp;q=w33QMv...\n",
              "420449    find.burnsmarketingandresearch.com/?br_fl=6042...\n",
              "420450    gfd.DATINGUPPERCLASS.COM/?biw=Microsoft_Edge.7...\n",
              "420451    rty.freebiesfortheover60s.com/?biw=Amaya.102tw...\n",
              "420452            defibel.org/wp-includes/images/index.html\n",
              "420453    stefanocardone.com/wp-includes/SimplePie/HTTP/...\n",
              "420454            defibel.org/wp-includes/images/index.html\n",
              "420455    shapingsoftware.com/2009/02/09/architectural-s...\n",
              "420456    free.ulohapp.info/?br_fl=2872&amp;tuif=5539&am...\n",
              "420457    free.ulohapp.info/?oq=CEh3h_PskJLFZaQWwjEKBegU...\n",
              "420458                          mol.com-ho.me/cv_itworx.doc\n",
              "420459                                      23.227.196.215/\n",
              "420460                                   apple-checker.org/\n",
              "420461                                    apple-iclods.org/\n",
              "420462                                   apple-uptoday.org/\n",
              "420463                                    apple-search.info\n",
              "Name: url, Length: 420464, dtype: object"
            ]
          },
          "metadata": {
            "tags": []
          },
          "execution_count": 56
        }
      ]
    },
    {
      "cell_type": "code",
      "metadata": {
        "id": "q-3FX0e9BaT3",
        "colab_type": "code",
        "colab": {}
      },
      "source": [
        "#Using Defualt Tokenizer\n",
        "#vectorizer = TfidfVectorizer()\n",
        "\n",
        "#Using Custom Tokenizer\n",
        "\n",
        "vectorizer = TfidfVectorizer(tokenizer=makeTokens)"
      ],
      "execution_count": 0,
      "outputs": []
    },
    {
      "cell_type": "code",
      "metadata": {
        "id": "42y2gReOCw52",
        "colab_type": "code",
        "colab": {}
      },
      "source": [
        "X = vectorizer.fit_transform(url_list)"
      ],
      "execution_count": 0,
      "outputs": []
    },
    {
      "cell_type": "code",
      "metadata": {
        "id": "01ZIoMI6fgzm",
        "colab_type": "code",
        "colab": {
          "base_uri": "https://localhost:8080/",
          "height": 51
        },
        "outputId": "324c9466-0a64-4daf-8fda-140a51b6e392"
      },
      "source": [
        "X"
      ],
      "execution_count": 59,
      "outputs": [
        {
          "output_type": "execute_result",
          "data": {
            "text/plain": [
              "<420464x715384 sparse matrix of type '<class 'numpy.float64'>'\n",
              "\twith 2945002 stored elements in Compressed Sparse Row format>"
            ]
          },
          "metadata": {
            "tags": []
          },
          "execution_count": 59
        }
      ]
    },
    {
      "cell_type": "code",
      "metadata": {
        "id": "EiHXFc3uLPMg",
        "colab_type": "code",
        "colab": {}
      },
      "source": [
        "X_train, X_test, y_train, y_test = train_test_split(X, y, test_size=0.2)"
      ],
      "execution_count": 0,
      "outputs": []
    },
    {
      "cell_type": "code",
      "metadata": {
        "id": "RYKCdbk-OZ0A",
        "colab_type": "code",
        "colab": {
          "base_uri": "https://localhost:8080/",
          "height": 156
        },
        "outputId": "e8f9c8c1-638e-4503-fbbd-26aa3b8e2db3"
      },
      "source": [
        "# Model Building\n",
        "# Using Logistic Regression\n",
        "\n",
        "logit = LogisticRegression()\n",
        "logit.fit(X_train, y_train)"
      ],
      "execution_count": 61,
      "outputs": [
        {
          "output_type": "stream",
          "text": [
            "/usr/local/lib/python3.6/dist-packages/sklearn/linear_model/logistic.py:432: FutureWarning: Default solver will be changed to 'lbfgs' in 0.22. Specify a solver to silence this warning.\n",
            "  FutureWarning)\n"
          ],
          "name": "stderr"
        },
        {
          "output_type": "execute_result",
          "data": {
            "text/plain": [
              "LogisticRegression(C=1.0, class_weight=None, dual=False, fit_intercept=True,\n",
              "                   intercept_scaling=1, l1_ratio=None, max_iter=100,\n",
              "                   multi_class='warn', n_jobs=None, penalty='l2',\n",
              "                   random_state=None, solver='warn', tol=0.0001, verbose=0,\n",
              "                   warm_start=False)"
            ]
          },
          "metadata": {
            "tags": []
          },
          "execution_count": 61
        }
      ]
    },
    {
      "cell_type": "code",
      "metadata": {
        "id": "vKemsmeJgo94",
        "colab_type": "code",
        "colab": {
          "base_uri": "https://localhost:8080/",
          "height": 34
        },
        "outputId": "0d2bd432-ff1e-49f5-edfa-fea3b08ca4e2"
      },
      "source": [
        "print('Accuracy = ', logit.score(X_test, y_test))"
      ],
      "execution_count": 62,
      "outputs": [
        {
          "output_type": "stream",
          "text": [
            "Accuracy =  0.9613760955133007\n"
          ],
          "name": "stdout"
        }
      ]
    },
    {
      "cell_type": "markdown",
      "metadata": {
        "id": "cIls_-lShKaf",
        "colab_type": "text"
      },
      "source": [
        "**Predicting With Model**"
      ]
    },
    {
      "cell_type": "code",
      "metadata": {
        "id": "rbM3dppbhDxm",
        "colab_type": "code",
        "colab": {}
      },
      "source": [
        "X_predict = [\"google.com/search=jcharistech\",\n",
        "\"google.com/search=faizanahmad\",\n",
        "\"pakistanifacebookforever.com/getpassword.php/\", \n",
        "\"www.radsport-voggel.de/wp-admin/includes/log.exe\", \n",
        "\"ahrenhei.without-transfer.ru/nethost.exe \",\n",
        "\"www.itidea.it/centroesteticosothys/img/_notes/gum.exe\"]"
      ],
      "execution_count": 0,
      "outputs": []
    },
    {
      "cell_type": "code",
      "metadata": {
        "id": "iyxDpuOGhR-0",
        "colab_type": "code",
        "colab": {}
      },
      "source": [
        "X_predict = vectorizer.transform(X_predict)\n",
        "New_predict = logit.predict(X_predict)"
      ],
      "execution_count": 0,
      "outputs": []
    },
    {
      "cell_type": "code",
      "metadata": {
        "id": "gBbZ4jF5hieB",
        "colab_type": "code",
        "colab": {
          "base_uri": "https://localhost:8080/",
          "height": 34
        },
        "outputId": "7b937603-dcc9-479d-a31d-a85d3132ece4"
      },
      "source": [
        "print(New_predict)"
      ],
      "execution_count": 65,
      "outputs": [
        {
          "output_type": "stream",
          "text": [
            "['good' 'good' 'good' 'bad' 'bad' 'bad']\n"
          ],
          "name": "stdout"
        }
      ]
    },
    {
      "cell_type": "code",
      "metadata": {
        "id": "SGcgMTBrhn5v",
        "colab_type": "code",
        "colab": {}
      },
      "source": [
        ""
      ],
      "execution_count": 0,
      "outputs": []
    }
  ]
}